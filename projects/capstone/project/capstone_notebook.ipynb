{
 "cells": [
  {
   "cell_type": "markdown",
   "metadata": {},
   "source": [
    "# Machine Learning Engineer Nanodegree\n",
    "\n",
    "## Capstone Project\n",
    "\n",
    "### Inspired by the [Animal Shelter Outcome](https://www.kaggle.com/c/shelter-animal-outcomes) competition in Kaggle"
   ]
  },
  {
   "cell_type": "code",
   "execution_count": 3,
   "metadata": {
    "collapsed": true
   },
   "outputs": [],
   "source": [
    "import numpy as np\n",
    "import pandas as pd\n",
    "import seaborn as sns\n",
    "\n",
    "from time import time\n",
    "from sklearn.metrics import f1_score\n",
    "\n",
    "%matplotlib inline"
   ]
  },
  {
   "cell_type": "code",
   "execution_count": 24,
   "metadata": {
    "collapsed": false
   },
   "outputs": [
    {
     "name": "stdout",
     "output_type": "stream",
     "text": [
      "  AnimalID     Name             DateTime      OutcomeType OutcomeSubtype  \\\n",
      "0  A671945  Hambone  2014-02-12 18:22:00  Return_to_owner            NaN   \n",
      "1  A656520    Emily  2013-10-13 12:44:00       Euthanasia      Suffering   \n",
      "2  A686464   Pearce  2015-01-31 12:28:00         Adoption         Foster   \n",
      "3  A683430      NaN  2014-07-11 19:09:00         Transfer        Partner   \n",
      "4  A667013      NaN  2013-11-15 12:52:00         Transfer        Partner   \n",
      "\n",
      "  AnimalType SexuponOutcome AgeuponOutcome                        Breed  \\\n",
      "0        Dog  Neutered Male         1 year        Shetland Sheepdog Mix   \n",
      "1        Cat  Spayed Female         1 year       Domestic Shorthair Mix   \n",
      "2        Dog  Neutered Male        2 years                 Pit Bull Mix   \n",
      "3        Cat    Intact Male        3 weeks       Domestic Shorthair Mix   \n",
      "4        Dog  Neutered Male        2 years  Lhasa Apso/Miniature Poodle   \n",
      "\n",
      "         Color  \n",
      "0  Brown/White  \n",
      "1  Cream Tabby  \n",
      "2   Blue/White  \n",
      "3   Blue Cream  \n",
      "4          Tan  \n"
     ]
    }
   ],
   "source": [
    "# Read train data\n",
    "raw_data = pd.read_csv(\"data/train.csv\")\n",
    "print raw_data.head()"
   ]
  },
  {
   "cell_type": "markdown",
   "metadata": {},
   "source": [
    "## Training considerations\n",
    "\n",
    "### Features/columns to be considered\n",
    "\n",
    "- OutcomeType\n",
    "- AnimalType\n",
    "- SexuponOutcome\n",
    "- AgeuponOutcome\n",
    "- Breed \n",
    "- Color\n",
    "\n",
    "### Features/columns to be ignored\n",
    "\n",
    "- AnimalID: this is for internal use only.\n",
    "- Name: this is probably not relevant to predict the animal's outcome.\n",
    "- DateTime: this is only relevant for when the train data was captured, yet irrelevant for future predictions. Plus, it would be imposible to know when in the future the to-be-predicted outcome will take place.\n",
    "- OutcomeSubtype: this is outside of the project scope."
   ]
  },
  {
   "cell_type": "markdown",
   "metadata": {},
   "source": [
    "## Data cleanup"
   ]
  },
  {
   "cell_type": "code",
   "execution_count": 25,
   "metadata": {
    "collapsed": false
   },
   "outputs": [
    {
     "name": "stdout",
     "output_type": "stream",
     "text": [
      "       OutcomeType AnimalType SexuponOutcome AgeuponOutcome  \\\n",
      "0  Return_to_owner        Dog  Neutered Male         1 year   \n",
      "1       Euthanasia        Cat  Spayed Female         1 year   \n",
      "2         Adoption        Dog  Neutered Male        2 years   \n",
      "3         Transfer        Cat    Intact Male        3 weeks   \n",
      "4         Transfer        Dog  Neutered Male        2 years   \n",
      "\n",
      "                         Breed        Color  \n",
      "0        Shetland Sheepdog Mix  Brown/White  \n",
      "1       Domestic Shorthair Mix  Cream Tabby  \n",
      "2                 Pit Bull Mix   Blue/White  \n",
      "3       Domestic Shorthair Mix   Blue Cream  \n",
      "4  Lhasa Apso/Miniature Poodle          Tan  \n"
     ]
    }
   ],
   "source": [
    "# Remove ignored features/columns\n",
    "train_data = raw_data.drop(['AnimalID', 'Name', 'DateTime', 'OutcomeSubtype'], axis=1)\n",
    "print train_data.head()"
   ]
  },
  {
   "cell_type": "markdown",
   "metadata": {},
   "source": [
    "## Data exploration"
   ]
  },
  {
   "cell_type": "code",
   "execution_count": 26,
   "metadata": {
    "collapsed": false
   },
   "outputs": [
    {
     "name": "stdout",
     "output_type": "stream",
     "text": [
      "Number of columns: 6\n",
      "Number of columns: 26729\n"
     ]
    }
   ],
   "source": [
    "n_cols = len(train_data.columns)\n",
    "n_rows = len(train_data)\n",
    "\n",
    "print \"Number of columns: {0}\".format(n_cols)\n",
    "print \"Number of columns: {0}\".format(n_rows)"
   ]
  },
  {
   "cell_type": "code",
   "execution_count": 27,
   "metadata": {
    "collapsed": false
   },
   "outputs": [
    {
     "data": {
      "text/html": [
       "<div>\n",
       "<table border=\"1\" class=\"dataframe\">\n",
       "  <thead>\n",
       "    <tr style=\"text-align: right;\">\n",
       "      <th></th>\n",
       "      <th></th>\n",
       "      <th>AgeuponOutcome</th>\n",
       "      <th>Breed</th>\n",
       "      <th>Color</th>\n",
       "      <th>OutcomeType</th>\n",
       "      <th>SexuponOutcome</th>\n",
       "    </tr>\n",
       "    <tr>\n",
       "      <th>AnimalType</th>\n",
       "      <th></th>\n",
       "      <th></th>\n",
       "      <th></th>\n",
       "      <th></th>\n",
       "      <th></th>\n",
       "      <th></th>\n",
       "    </tr>\n",
       "  </thead>\n",
       "  <tbody>\n",
       "    <tr>\n",
       "      <th rowspan=\"4\" valign=\"top\">Cat</th>\n",
       "      <th>count</th>\n",
       "      <td>11117</td>\n",
       "      <td>11134</td>\n",
       "      <td>11134</td>\n",
       "      <td>11134</td>\n",
       "      <td>11134</td>\n",
       "    </tr>\n",
       "    <tr>\n",
       "      <th>unique</th>\n",
       "      <td>44</td>\n",
       "      <td>60</td>\n",
       "      <td>146</td>\n",
       "      <td>5</td>\n",
       "      <td>5</td>\n",
       "    </tr>\n",
       "    <tr>\n",
       "      <th>top</th>\n",
       "      <td>2 months</td>\n",
       "      <td>Domestic Shorthair Mix</td>\n",
       "      <td>Brown Tabby</td>\n",
       "      <td>Transfer</td>\n",
       "      <td>Neutered Male</td>\n",
       "    </tr>\n",
       "    <tr>\n",
       "      <th>freq</th>\n",
       "      <td>2220</td>\n",
       "      <td>8810</td>\n",
       "      <td>1635</td>\n",
       "      <td>5505</td>\n",
       "      <td>3065</td>\n",
       "    </tr>\n",
       "    <tr>\n",
       "      <th rowspan=\"4\" valign=\"top\">Dog</th>\n",
       "      <th>count</th>\n",
       "      <td>15594</td>\n",
       "      <td>15595</td>\n",
       "      <td>15595</td>\n",
       "      <td>15595</td>\n",
       "      <td>15594</td>\n",
       "    </tr>\n",
       "    <tr>\n",
       "      <th>unique</th>\n",
       "      <td>43</td>\n",
       "      <td>1320</td>\n",
       "      <td>262</td>\n",
       "      <td>5</td>\n",
       "      <td>5</td>\n",
       "    </tr>\n",
       "    <tr>\n",
       "      <th>top</th>\n",
       "      <td>2 years</td>\n",
       "      <td>Pit Bull Mix</td>\n",
       "      <td>Black/White</td>\n",
       "      <td>Adoption</td>\n",
       "      <td>Neutered Male</td>\n",
       "    </tr>\n",
       "    <tr>\n",
       "      <th>freq</th>\n",
       "      <td>2818</td>\n",
       "      <td>1906</td>\n",
       "      <td>1730</td>\n",
       "      <td>6497</td>\n",
       "      <td>6714</td>\n",
       "    </tr>\n",
       "  </tbody>\n",
       "</table>\n",
       "</div>"
      ],
      "text/plain": [
       "                  AgeuponOutcome                   Breed        Color  \\\n",
       "AnimalType                                                              \n",
       "Cat        count           11117                   11134        11134   \n",
       "           unique             44                      60          146   \n",
       "           top          2 months  Domestic Shorthair Mix  Brown Tabby   \n",
       "           freq             2220                    8810         1635   \n",
       "Dog        count           15594                   15595        15595   \n",
       "           unique             43                    1320          262   \n",
       "           top           2 years            Pit Bull Mix  Black/White   \n",
       "           freq             2818                    1906         1730   \n",
       "\n",
       "                  OutcomeType SexuponOutcome  \n",
       "AnimalType                                    \n",
       "Cat        count        11134          11134  \n",
       "           unique           5              5  \n",
       "           top       Transfer  Neutered Male  \n",
       "           freq          5505           3065  \n",
       "Dog        count        15595          15594  \n",
       "           unique           5              5  \n",
       "           top       Adoption  Neutered Male  \n",
       "           freq          6497           6714  "
      ]
     },
     "execution_count": 27,
     "metadata": {},
     "output_type": "execute_result"
    }
   ],
   "source": [
    "animaltype_groupby = train_data.groupby('AnimalType')\n",
    "animaltype_groupby.describe()"
   ]
  },
  {
   "cell_type": "code",
   "execution_count": 28,
   "metadata": {
    "collapsed": false
   },
   "outputs": [
    {
     "data": {
      "text/plain": [
       "<matplotlib.axes._subplots.AxesSubplot at 0x114c7e410>"
      ]
     },
     "execution_count": 28,
     "metadata": {},
     "output_type": "execute_result"
    },
    {
     "data": {
      "image/png": "[encoded data removed]",
      "text/plain": [
       "<matplotlib.figure.Figure at 0x1150bf650>"
      ]
     },
     "metadata": {},
     "output_type": "display_data"
    }
   ],
   "source": [
    "sns.countplot(train_data['OutcomeType'])"
   ]
  },
  {
   "cell_type": "code",
   "execution_count": null,
   "metadata": {
    "collapsed": true
   },
   "outputs": [],
   "source": []
  }
 ],
 "metadata": {
  "kernelspec": {
   "display_name": "Python 2",
   "language": "python",
   "name": "python2"
  },
  "language_info": {
   "codemirror_mode": {
    "name": "ipython",
    "version": 2
   },
   "file_extension": ".py",
   "mimetype": "text/x-python",
   "name": "python",
   "nbconvert_exporter": "python",
   "pygments_lexer": "ipython2",
   "version": "2.7.12"
  }
 },
 "nbformat": 4,
 "nbformat_minor": 0
}
